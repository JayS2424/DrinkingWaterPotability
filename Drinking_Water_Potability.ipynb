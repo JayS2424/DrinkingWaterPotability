{
 "cells": [
  {
   "cell_type": "markdown",
   "id": "482d8db3",
   "metadata": {},
   "source": [
    "### Importing Neccesary Libraries"
   ]
  },
  {
   "cell_type": "code",
   "execution_count": 1,
   "id": "2d018ce4",
   "metadata": {},
   "outputs": [],
   "source": [
    "import pandas as pd\n",
    "import numpy as np\n",
    "import matplotlib.pyplot as plt\n",
    "import seaborn as sns"
   ]
  },
  {
   "cell_type": "markdown",
   "id": "c65b0efb",
   "metadata": {},
   "source": [
    "### Reading Data"
   ]
  },
  {
   "cell_type": "code",
   "execution_count": 2,
   "id": "1fdc0f17",
   "metadata": {},
   "outputs": [
    {
     "data": {
      "text/html": [
       "<div>\n",
       "<style scoped>\n",
       "    .dataframe tbody tr th:only-of-type {\n",
       "        vertical-align: middle;\n",
       "    }\n",
       "\n",
       "    .dataframe tbody tr th {\n",
       "        vertical-align: top;\n",
       "    }\n",
       "\n",
       "    .dataframe thead th {\n",
       "        text-align: right;\n",
       "    }\n",
       "</style>\n",
       "<table border=\"1\" class=\"dataframe\">\n",
       "  <thead>\n",
       "    <tr style=\"text-align: right;\">\n",
       "      <th></th>\n",
       "      <th>ph</th>\n",
       "      <th>Hardness</th>\n",
       "      <th>Solids</th>\n",
       "      <th>Chloramines</th>\n",
       "      <th>Sulfate</th>\n",
       "      <th>Conductivity</th>\n",
       "      <th>Organic_carbon</th>\n",
       "      <th>Trihalomethanes</th>\n",
       "      <th>Turbidity</th>\n",
       "      <th>Potability</th>\n",
       "    </tr>\n",
       "  </thead>\n",
       "  <tbody>\n",
       "    <tr>\n",
       "      <th>0</th>\n",
       "      <td>NaN</td>\n",
       "      <td>204.890455</td>\n",
       "      <td>20791.318981</td>\n",
       "      <td>7.300212</td>\n",
       "      <td>368.516441</td>\n",
       "      <td>564.308654</td>\n",
       "      <td>10.379783</td>\n",
       "      <td>86.990970</td>\n",
       "      <td>2.963135</td>\n",
       "      <td>0</td>\n",
       "    </tr>\n",
       "    <tr>\n",
       "      <th>1</th>\n",
       "      <td>3.716080</td>\n",
       "      <td>129.422921</td>\n",
       "      <td>18630.057858</td>\n",
       "      <td>6.635246</td>\n",
       "      <td>NaN</td>\n",
       "      <td>592.885359</td>\n",
       "      <td>15.180013</td>\n",
       "      <td>56.329076</td>\n",
       "      <td>4.500656</td>\n",
       "      <td>0</td>\n",
       "    </tr>\n",
       "    <tr>\n",
       "      <th>2</th>\n",
       "      <td>8.099124</td>\n",
       "      <td>224.236259</td>\n",
       "      <td>19909.541732</td>\n",
       "      <td>9.275884</td>\n",
       "      <td>NaN</td>\n",
       "      <td>418.606213</td>\n",
       "      <td>16.868637</td>\n",
       "      <td>66.420093</td>\n",
       "      <td>3.055934</td>\n",
       "      <td>0</td>\n",
       "    </tr>\n",
       "    <tr>\n",
       "      <th>3</th>\n",
       "      <td>8.316766</td>\n",
       "      <td>214.373394</td>\n",
       "      <td>22018.417441</td>\n",
       "      <td>8.059332</td>\n",
       "      <td>356.886136</td>\n",
       "      <td>363.266516</td>\n",
       "      <td>18.436524</td>\n",
       "      <td>100.341674</td>\n",
       "      <td>4.628771</td>\n",
       "      <td>0</td>\n",
       "    </tr>\n",
       "    <tr>\n",
       "      <th>4</th>\n",
       "      <td>9.092223</td>\n",
       "      <td>181.101509</td>\n",
       "      <td>17978.986339</td>\n",
       "      <td>6.546600</td>\n",
       "      <td>310.135738</td>\n",
       "      <td>398.410813</td>\n",
       "      <td>11.558279</td>\n",
       "      <td>31.997993</td>\n",
       "      <td>4.075075</td>\n",
       "      <td>0</td>\n",
       "    </tr>\n",
       "  </tbody>\n",
       "</table>\n",
       "</div>"
      ],
      "text/plain": [
       "         ph    Hardness        Solids  Chloramines     Sulfate  Conductivity  \\\n",
       "0       NaN  204.890455  20791.318981     7.300212  368.516441    564.308654   \n",
       "1  3.716080  129.422921  18630.057858     6.635246         NaN    592.885359   \n",
       "2  8.099124  224.236259  19909.541732     9.275884         NaN    418.606213   \n",
       "3  8.316766  214.373394  22018.417441     8.059332  356.886136    363.266516   \n",
       "4  9.092223  181.101509  17978.986339     6.546600  310.135738    398.410813   \n",
       "\n",
       "   Organic_carbon  Trihalomethanes  Turbidity  Potability  \n",
       "0       10.379783        86.990970   2.963135           0  \n",
       "1       15.180013        56.329076   4.500656           0  \n",
       "2       16.868637        66.420093   3.055934           0  \n",
       "3       18.436524       100.341674   4.628771           0  \n",
       "4       11.558279        31.997993   4.075075           0  "
      ]
     },
     "execution_count": 2,
     "metadata": {},
     "output_type": "execute_result"
    }
   ],
   "source": [
    "df=pd.read_csv('water_potability.csv')\n",
    "df.head()"
   ]
  },
  {
   "cell_type": "markdown",
   "id": "04a752d9",
   "metadata": {},
   "source": [
    "### Basic Information About Data"
   ]
  },
  {
   "cell_type": "code",
   "execution_count": 3,
   "id": "9cd427b1",
   "metadata": {},
   "outputs": [
    {
     "name": "stdout",
     "output_type": "stream",
     "text": [
      "<class 'pandas.core.frame.DataFrame'>\n",
      "RangeIndex: 3276 entries, 0 to 3275\n",
      "Data columns (total 10 columns):\n",
      " #   Column           Non-Null Count  Dtype  \n",
      "---  ------           --------------  -----  \n",
      " 0   ph               2785 non-null   float64\n",
      " 1   Hardness         3276 non-null   float64\n",
      " 2   Solids           3276 non-null   float64\n",
      " 3   Chloramines      3276 non-null   float64\n",
      " 4   Sulfate          2495 non-null   float64\n",
      " 5   Conductivity     3276 non-null   float64\n",
      " 6   Organic_carbon   3276 non-null   float64\n",
      " 7   Trihalomethanes  3114 non-null   float64\n",
      " 8   Turbidity        3276 non-null   float64\n",
      " 9   Potability       3276 non-null   int64  \n",
      "dtypes: float64(9), int64(1)\n",
      "memory usage: 256.1 KB\n"
     ]
    }
   ],
   "source": [
    "df.info()"
   ]
  },
  {
   "cell_type": "code",
   "execution_count": 4,
   "id": "b487b7f8",
   "metadata": {},
   "outputs": [
    {
     "data": {
      "text/plain": [
       "ph                 14.987790\n",
       "Hardness            0.000000\n",
       "Solids              0.000000\n",
       "Chloramines         0.000000\n",
       "Sulfate            23.840049\n",
       "Conductivity        0.000000\n",
       "Organic_carbon      0.000000\n",
       "Trihalomethanes     4.945055\n",
       "Turbidity           0.000000\n",
       "Potability          0.000000\n",
       "dtype: float64"
      ]
     },
     "execution_count": 4,
     "metadata": {},
     "output_type": "execute_result"
    }
   ],
   "source": [
    "df.isnull().mean()*100"
   ]
  },
  {
   "cell_type": "code",
   "execution_count": 5,
   "id": "79d4dc60",
   "metadata": {},
   "outputs": [
    {
     "data": {
      "text/plain": [
       "<AxesSubplot: xlabel='Potability', ylabel='count'>"
      ]
     },
     "execution_count": 5,
     "metadata": {},
     "output_type": "execute_result"
    },
    {
     "data": {
      "image/png": "[encoded data removed]",
      "text/plain": [
       "<Figure size 640x480 with 1 Axes>"
      ]
     },
     "metadata": {},
     "output_type": "display_data"
    }
   ],
   "source": [
    "sns.countplot(x=df[\"Potability\"])"
   ]
  },
  {
   "cell_type": "code",
   "execution_count": 6,
   "id": "869ee144",
   "metadata": {},
   "outputs": [
    {
     "data": {
      "text/html": [
       "<div>\n",
       "<style scoped>\n",
       "    .dataframe tbody tr th:only-of-type {\n",
       "        vertical-align: middle;\n",
       "    }\n",
       "\n",
       "    .dataframe tbody tr th {\n",
       "        vertical-align: top;\n",
       "    }\n",
       "\n",
       "    .dataframe thead th {\n",
       "        text-align: right;\n",
       "    }\n",
       "</style>\n",
       "<table border=\"1\" class=\"dataframe\">\n",
       "  <thead>\n",
       "    <tr style=\"text-align: right;\">\n",
       "      <th></th>\n",
       "      <th>ph</th>\n",
       "      <th>Hardness</th>\n",
       "      <th>Solids</th>\n",
       "      <th>Chloramines</th>\n",
       "      <th>Sulfate</th>\n",
       "      <th>Conductivity</th>\n",
       "      <th>Organic_carbon</th>\n",
       "      <th>Trihalomethanes</th>\n",
       "      <th>Turbidity</th>\n",
       "      <th>Potability</th>\n",
       "    </tr>\n",
       "  </thead>\n",
       "  <tbody>\n",
       "    <tr>\n",
       "      <th>count</th>\n",
       "      <td>2785.000000</td>\n",
       "      <td>3276.000000</td>\n",
       "      <td>3276.000000</td>\n",
       "      <td>3276.000000</td>\n",
       "      <td>2495.000000</td>\n",
       "      <td>3276.000000</td>\n",
       "      <td>3276.000000</td>\n",
       "      <td>3114.000000</td>\n",
       "      <td>3276.000000</td>\n",
       "      <td>3276.000000</td>\n",
       "    </tr>\n",
       "    <tr>\n",
       "      <th>mean</th>\n",
       "      <td>7.080795</td>\n",
       "      <td>196.369496</td>\n",
       "      <td>22014.092526</td>\n",
       "      <td>7.122277</td>\n",
       "      <td>333.775777</td>\n",
       "      <td>426.205111</td>\n",
       "      <td>14.284970</td>\n",
       "      <td>66.396293</td>\n",
       "      <td>3.966786</td>\n",
       "      <td>0.390110</td>\n",
       "    </tr>\n",
       "    <tr>\n",
       "      <th>std</th>\n",
       "      <td>1.594320</td>\n",
       "      <td>32.879761</td>\n",
       "      <td>8768.570828</td>\n",
       "      <td>1.583085</td>\n",
       "      <td>41.416840</td>\n",
       "      <td>80.824064</td>\n",
       "      <td>3.308162</td>\n",
       "      <td>16.175008</td>\n",
       "      <td>0.780382</td>\n",
       "      <td>0.487849</td>\n",
       "    </tr>\n",
       "    <tr>\n",
       "      <th>min</th>\n",
       "      <td>0.000000</td>\n",
       "      <td>47.432000</td>\n",
       "      <td>320.942611</td>\n",
       "      <td>0.352000</td>\n",
       "      <td>129.000000</td>\n",
       "      <td>181.483754</td>\n",
       "      <td>2.200000</td>\n",
       "      <td>0.738000</td>\n",
       "      <td>1.450000</td>\n",
       "      <td>0.000000</td>\n",
       "    </tr>\n",
       "    <tr>\n",
       "      <th>25%</th>\n",
       "      <td>6.093092</td>\n",
       "      <td>176.850538</td>\n",
       "      <td>15666.690297</td>\n",
       "      <td>6.127421</td>\n",
       "      <td>307.699498</td>\n",
       "      <td>365.734414</td>\n",
       "      <td>12.065801</td>\n",
       "      <td>55.844536</td>\n",
       "      <td>3.439711</td>\n",
       "      <td>0.000000</td>\n",
       "    </tr>\n",
       "    <tr>\n",
       "      <th>50%</th>\n",
       "      <td>7.036752</td>\n",
       "      <td>196.967627</td>\n",
       "      <td>20927.833607</td>\n",
       "      <td>7.130299</td>\n",
       "      <td>333.073546</td>\n",
       "      <td>421.884968</td>\n",
       "      <td>14.218338</td>\n",
       "      <td>66.622485</td>\n",
       "      <td>3.955028</td>\n",
       "      <td>0.000000</td>\n",
       "    </tr>\n",
       "    <tr>\n",
       "      <th>75%</th>\n",
       "      <td>8.062066</td>\n",
       "      <td>216.667456</td>\n",
       "      <td>27332.762127</td>\n",
       "      <td>8.114887</td>\n",
       "      <td>359.950170</td>\n",
       "      <td>481.792304</td>\n",
       "      <td>16.557652</td>\n",
       "      <td>77.337473</td>\n",
       "      <td>4.500320</td>\n",
       "      <td>1.000000</td>\n",
       "    </tr>\n",
       "    <tr>\n",
       "      <th>max</th>\n",
       "      <td>14.000000</td>\n",
       "      <td>323.124000</td>\n",
       "      <td>61227.196008</td>\n",
       "      <td>13.127000</td>\n",
       "      <td>481.030642</td>\n",
       "      <td>753.342620</td>\n",
       "      <td>28.300000</td>\n",
       "      <td>124.000000</td>\n",
       "      <td>6.739000</td>\n",
       "      <td>1.000000</td>\n",
       "    </tr>\n",
       "  </tbody>\n",
       "</table>\n",
       "</div>"
      ],
      "text/plain": [
       "                ph     Hardness        Solids  Chloramines      Sulfate  \\\n",
       "count  2785.000000  3276.000000   3276.000000  3276.000000  2495.000000   \n",
       "mean      7.080795   196.369496  22014.092526     7.122277   333.775777   \n",
       "std       1.594320    32.879761   8768.570828     1.583085    41.416840   \n",
       "min       0.000000    47.432000    320.942611     0.352000   129.000000   \n",
       "25%       6.093092   176.850538  15666.690297     6.127421   307.699498   \n",
       "50%       7.036752   196.967627  20927.833607     7.130299   333.073546   \n",
       "75%       8.062066   216.667456  27332.762127     8.114887   359.950170   \n",
       "max      14.000000   323.124000  61227.196008    13.127000   481.030642   \n",
       "\n",
       "       Conductivity  Organic_carbon  Trihalomethanes    Turbidity   Potability  \n",
       "count   3276.000000     3276.000000      3114.000000  3276.000000  3276.000000  \n",
       "mean     426.205111       14.284970        66.396293     3.966786     0.390110  \n",
       "std       80.824064        3.308162        16.175008     0.780382     0.487849  \n",
       "min      181.483754        2.200000         0.738000     1.450000     0.000000  \n",
       "25%      365.734414       12.065801        55.844536     3.439711     0.000000  \n",
       "50%      421.884968       14.218338        66.622485     3.955028     0.000000  \n",
       "75%      481.792304       16.557652        77.337473     4.500320     1.000000  \n",
       "max      753.342620       28.300000       124.000000     6.739000     1.000000  "
      ]
     },
     "execution_count": 6,
     "metadata": {},
     "output_type": "execute_result"
    }
   ],
   "source": [
    "df.describe()"
   ]
  },
  {
   "cell_type": "code",
   "execution_count": 7,
   "id": "e76f5aa0",
   "metadata": {},
   "outputs": [
    {
     "data": {
      "text/plain": [
       "Index(['ph', 'Hardness', 'Solids', 'Chloramines', 'Sulfate', 'Conductivity',\n",
       "       'Organic_carbon', 'Trihalomethanes', 'Turbidity', 'Potability'],\n",
       "      dtype='object')"
      ]
     },
     "execution_count": 7,
     "metadata": {},
     "output_type": "execute_result"
    }
   ],
   "source": [
    "df.columns"
   ]
  },
  {
   "cell_type": "code",
   "execution_count": 8,
   "id": "76683ba7",
   "metadata": {},
   "outputs": [
    {
     "data": {
      "text/plain": [
       "<AxesSubplot: >"
      ]
     },
     "execution_count": 8,
     "metadata": {},
     "output_type": "execute_result"
    },
    {
     "data": {
      "image/png": "[encoded data removed]",
      "text/plain": [
       "<Figure size 1000x800 with 2 Axes>"
      ]
     },
     "metadata": {},
     "output_type": "display_data"
    }
   ],
   "source": [
    "plt.figure(figsize=(10,8))\n",
    "sns.heatmap(df.corr(), annot=True)"
   ]
  },
  {
   "cell_type": "markdown",
   "id": "ffda038a",
   "metadata": {},
   "source": [
    "### Missing Value Imputation"
   ]
  },
  {
   "cell_type": "code",
   "execution_count": 9,
   "id": "8713ea61",
   "metadata": {},
   "outputs": [],
   "source": [
    "df['Sulfate']=df['Sulfate'].fillna(df['Sulfate'].mean())"
   ]
  },
  {
   "cell_type": "code",
   "execution_count": 10,
   "id": "7ffdfd20",
   "metadata": {},
   "outputs": [],
   "source": [
    "df['ph']=df['ph'].fillna(df['ph'].median())"
   ]
  },
  {
   "cell_type": "code",
   "execution_count": 11,
   "id": "319ec9d0",
   "metadata": {},
   "outputs": [],
   "source": [
    "df[\"Trihalomethanes\"]=df[\"Trihalomethanes\"].fillna(df[\"Trihalomethanes\"].mean())"
   ]
  },
  {
   "cell_type": "code",
   "execution_count": 12,
   "id": "822e2105",
   "metadata": {},
   "outputs": [
    {
     "name": "stdout",
     "output_type": "stream",
     "text": [
      "<class 'pandas.core.frame.DataFrame'>\n",
      "RangeIndex: 3276 entries, 0 to 3275\n",
      "Data columns (total 10 columns):\n",
      " #   Column           Non-Null Count  Dtype  \n",
      "---  ------           --------------  -----  \n",
      " 0   ph               3276 non-null   float64\n",
      " 1   Hardness         3276 non-null   float64\n",
      " 2   Solids           3276 non-null   float64\n",
      " 3   Chloramines      3276 non-null   float64\n",
      " 4   Sulfate          3276 non-null   float64\n",
      " 5   Conductivity     3276 non-null   float64\n",
      " 6   Organic_carbon   3276 non-null   float64\n",
      " 7   Trihalomethanes  3276 non-null   float64\n",
      " 8   Turbidity        3276 non-null   float64\n",
      " 9   Potability       3276 non-null   int64  \n",
      "dtypes: float64(9), int64(1)\n",
      "memory usage: 256.1 KB\n"
     ]
    }
   ],
   "source": [
    "df.info()"
   ]
  },
  {
   "cell_type": "code",
   "execution_count": 13,
   "id": "4be42087",
   "metadata": {},
   "outputs": [],
   "source": [
    "from sklearn.preprocessing import StandardScaler\n",
    "from sklearn.linear_model import LogisticRegression\n",
    "from sklearn.tree import DecisionTreeClassifier\n",
    "from sklearn.svm import SVC\n",
    "from sklearn.ensemble import RandomForestClassifier\n",
    "from sklearn.model_selection import GridSearchCV, train_test_split\n",
    "from sklearn.metrics import accuracy_score, confusion_matrix"
   ]
  },
  {
   "cell_type": "markdown",
   "id": "14758ce4",
   "metadata": {},
   "source": [
    "### splitting Data For training and validation"
   ]
  },
  {
   "cell_type": "code",
   "execution_count": 14,
   "id": "8799303e",
   "metadata": {},
   "outputs": [],
   "source": [
    "X=df.drop('Potability',axis=1)\n",
    "y=df['Potability']\n",
    "X_train,X_test,y_train,y_test=train_test_split(X,y, test_size=0.2, random_state=0)"
   ]
  },
  {
   "cell_type": "code",
   "execution_count": 15,
   "id": "7f1b00ab",
   "metadata": {},
   "outputs": [
    {
     "data": {
      "text/html": [
       "<div>\n",
       "<style scoped>\n",
       "    .dataframe tbody tr th:only-of-type {\n",
       "        vertical-align: middle;\n",
       "    }\n",
       "\n",
       "    .dataframe tbody tr th {\n",
       "        vertical-align: top;\n",
       "    }\n",
       "\n",
       "    .dataframe thead th {\n",
       "        text-align: right;\n",
       "    }\n",
       "</style>\n",
       "<table border=\"1\" class=\"dataframe\">\n",
       "  <thead>\n",
       "    <tr style=\"text-align: right;\">\n",
       "      <th></th>\n",
       "      <th>ph</th>\n",
       "      <th>Hardness</th>\n",
       "      <th>Solids</th>\n",
       "      <th>Chloramines</th>\n",
       "      <th>Sulfate</th>\n",
       "      <th>Conductivity</th>\n",
       "      <th>Organic_carbon</th>\n",
       "      <th>Trihalomethanes</th>\n",
       "      <th>Turbidity</th>\n",
       "    </tr>\n",
       "  </thead>\n",
       "  <tbody>\n",
       "    <tr>\n",
       "      <th>2128</th>\n",
       "      <td>5.514748</td>\n",
       "      <td>228.735924</td>\n",
       "      <td>35343.628580</td>\n",
       "      <td>4.346608</td>\n",
       "      <td>333.775777</td>\n",
       "      <td>526.112381</td>\n",
       "      <td>14.930982</td>\n",
       "      <td>46.780508</td>\n",
       "      <td>2.798158</td>\n",
       "    </tr>\n",
       "    <tr>\n",
       "      <th>1519</th>\n",
       "      <td>7.036752</td>\n",
       "      <td>210.732854</td>\n",
       "      <td>13671.416030</td>\n",
       "      <td>8.546187</td>\n",
       "      <td>418.470551</td>\n",
       "      <td>352.252328</td>\n",
       "      <td>10.353659</td>\n",
       "      <td>45.304007</td>\n",
       "      <td>3.364891</td>\n",
       "    </tr>\n",
       "    <tr>\n",
       "      <th>40</th>\n",
       "      <td>7.036752</td>\n",
       "      <td>233.858996</td>\n",
       "      <td>11703.923907</td>\n",
       "      <td>4.599388</td>\n",
       "      <td>309.039320</td>\n",
       "      <td>349.399633</td>\n",
       "      <td>18.338893</td>\n",
       "      <td>42.677465</td>\n",
       "      <td>3.510004</td>\n",
       "    </tr>\n",
       "    <tr>\n",
       "      <th>1151</th>\n",
       "      <td>4.303575</td>\n",
       "      <td>227.007086</td>\n",
       "      <td>7323.302301</td>\n",
       "      <td>7.490508</td>\n",
       "      <td>326.695199</td>\n",
       "      <td>412.896404</td>\n",
       "      <td>12.906730</td>\n",
       "      <td>68.748918</td>\n",
       "      <td>2.010537</td>\n",
       "    </tr>\n",
       "    <tr>\n",
       "      <th>2404</th>\n",
       "      <td>9.624727</td>\n",
       "      <td>217.372780</td>\n",
       "      <td>25175.754158</td>\n",
       "      <td>9.883946</td>\n",
       "      <td>329.174454</td>\n",
       "      <td>394.054835</td>\n",
       "      <td>20.277571</td>\n",
       "      <td>85.840258</td>\n",
       "      <td>2.615257</td>\n",
       "    </tr>\n",
       "    <tr>\n",
       "      <th>...</th>\n",
       "      <td>...</td>\n",
       "      <td>...</td>\n",
       "      <td>...</td>\n",
       "      <td>...</td>\n",
       "      <td>...</td>\n",
       "      <td>...</td>\n",
       "      <td>...</td>\n",
       "      <td>...</td>\n",
       "      <td>...</td>\n",
       "    </tr>\n",
       "    <tr>\n",
       "      <th>835</th>\n",
       "      <td>7.440825</td>\n",
       "      <td>183.362713</td>\n",
       "      <td>17259.852302</td>\n",
       "      <td>4.610245</td>\n",
       "      <td>335.626443</td>\n",
       "      <td>452.995293</td>\n",
       "      <td>9.700906</td>\n",
       "      <td>80.537065</td>\n",
       "      <td>2.496343</td>\n",
       "    </tr>\n",
       "    <tr>\n",
       "      <th>3264</th>\n",
       "      <td>5.893103</td>\n",
       "      <td>239.269481</td>\n",
       "      <td>20526.666156</td>\n",
       "      <td>6.349561</td>\n",
       "      <td>341.256362</td>\n",
       "      <td>403.617560</td>\n",
       "      <td>18.963707</td>\n",
       "      <td>63.846319</td>\n",
       "      <td>4.390702</td>\n",
       "    </tr>\n",
       "    <tr>\n",
       "      <th>1653</th>\n",
       "      <td>6.648005</td>\n",
       "      <td>191.841801</td>\n",
       "      <td>15176.290678</td>\n",
       "      <td>5.661663</td>\n",
       "      <td>333.775777</td>\n",
       "      <td>471.047129</td>\n",
       "      <td>15.438287</td>\n",
       "      <td>56.532387</td>\n",
       "      <td>3.829784</td>\n",
       "    </tr>\n",
       "    <tr>\n",
       "      <th>2607</th>\n",
       "      <td>7.675914</td>\n",
       "      <td>233.300759</td>\n",
       "      <td>23673.100606</td>\n",
       "      <td>8.407497</td>\n",
       "      <td>333.775777</td>\n",
       "      <td>232.613624</td>\n",
       "      <td>18.459408</td>\n",
       "      <td>60.993590</td>\n",
       "      <td>5.040461</td>\n",
       "    </tr>\n",
       "    <tr>\n",
       "      <th>2732</th>\n",
       "      <td>7.036752</td>\n",
       "      <td>160.915815</td>\n",
       "      <td>13943.244974</td>\n",
       "      <td>8.399730</td>\n",
       "      <td>380.768478</td>\n",
       "      <td>344.154228</td>\n",
       "      <td>15.208691</td>\n",
       "      <td>75.575056</td>\n",
       "      <td>4.141552</td>\n",
       "    </tr>\n",
       "  </tbody>\n",
       "</table>\n",
       "<p>2620 rows × 9 columns</p>\n",
       "</div>"
      ],
      "text/plain": [
       "            ph    Hardness        Solids  Chloramines     Sulfate  \\\n",
       "2128  5.514748  228.735924  35343.628580     4.346608  333.775777   \n",
       "1519  7.036752  210.732854  13671.416030     8.546187  418.470551   \n",
       "40    7.036752  233.858996  11703.923907     4.599388  309.039320   \n",
       "1151  4.303575  227.007086   7323.302301     7.490508  326.695199   \n",
       "2404  9.624727  217.372780  25175.754158     9.883946  329.174454   \n",
       "...        ...         ...           ...          ...         ...   \n",
       "835   7.440825  183.362713  17259.852302     4.610245  335.626443   \n",
       "3264  5.893103  239.269481  20526.666156     6.349561  341.256362   \n",
       "1653  6.648005  191.841801  15176.290678     5.661663  333.775777   \n",
       "2607  7.675914  233.300759  23673.100606     8.407497  333.775777   \n",
       "2732  7.036752  160.915815  13943.244974     8.399730  380.768478   \n",
       "\n",
       "      Conductivity  Organic_carbon  Trihalomethanes  Turbidity  \n",
       "2128    526.112381       14.930982        46.780508   2.798158  \n",
       "1519    352.252328       10.353659        45.304007   3.364891  \n",
       "40      349.399633       18.338893        42.677465   3.510004  \n",
       "1151    412.896404       12.906730        68.748918   2.010537  \n",
       "2404    394.054835       20.277571        85.840258   2.615257  \n",
       "...            ...             ...              ...        ...  \n",
       "835     452.995293        9.700906        80.537065   2.496343  \n",
       "3264    403.617560       18.963707        63.846319   4.390702  \n",
       "1653    471.047129       15.438287        56.532387   3.829784  \n",
       "2607    232.613624       18.459408        60.993590   5.040461  \n",
       "2732    344.154228       15.208691        75.575056   4.141552  \n",
       "\n",
       "[2620 rows x 9 columns]"
      ]
     },
     "execution_count": 15,
     "metadata": {},
     "output_type": "execute_result"
    }
   ],
   "source": [
    "X_train"
   ]
  },
  {
   "cell_type": "markdown",
   "id": "1ae4b9cb",
   "metadata": {},
   "source": [
    "### Scaling"
   ]
  },
  {
   "cell_type": "code",
   "execution_count": 16,
   "id": "7b4b1e8b",
   "metadata": {},
   "outputs": [],
   "source": [
    "ss=StandardScaler()\n",
    "X_train_scaled=ss.fit_transform(X_train)\n",
    "X_test_scaled=ss.fit_transform(X_test)"
   ]
  },
  {
   "cell_type": "code",
   "execution_count": 17,
   "id": "ed0d7484",
   "metadata": {},
   "outputs": [
    {
     "data": {
      "text/plain": [
       "array([[-1.06624116,  0.97249017,  1.53580712, ...,  0.1880379 ,\n",
       "        -1.25125089, -1.51463513],\n",
       "       [-0.02549062,  0.42140973, -0.94433514, ..., -1.18739347,\n",
       "        -1.34485656, -0.7843761 ],\n",
       "       [-0.02549062,  1.12930924, -1.1694926 , ...,  1.21207458,\n",
       "        -1.51137132, -0.59739159],\n",
       "       ...,\n",
       "       [-0.29131659, -0.15685217, -0.77211908, ...,  0.34047695,\n",
       "        -0.63301136, -0.18534202],\n",
       "       [ 0.4115697 ,  1.11222141,  0.20024576, ...,  1.24828798,\n",
       "        -0.35018463,  1.37466739],\n",
       "       [-0.02549062, -1.10350772, -0.91322736, ...,  0.27148617,\n",
       "         0.57423597,  0.21638536]])"
      ]
     },
     "execution_count": 17,
     "metadata": {},
     "output_type": "execute_result"
    }
   ],
   "source": [
    "X_train_scaled"
   ]
  },
  {
   "cell_type": "code",
   "execution_count": 18,
   "id": "41553a79",
   "metadata": {},
   "outputs": [],
   "source": [
    "from sklearn.compose import ColumnTransformer\n",
    "from sklearn.impute import SimpleImputer"
   ]
  },
  {
   "cell_type": "markdown",
   "id": "fbd04873",
   "metadata": {},
   "source": [
    "#### Transformer for Imputation"
   ]
  },
  {
   "cell_type": "code",
   "execution_count": 19,
   "id": "9bd9ac56",
   "metadata": {},
   "outputs": [],
   "source": [
    "trf1 = ColumnTransformer([\n",
    "    ('sulphate_impute',SimpleImputer(),[4]),\n",
    "    ('trihalomethanes_impute',SimpleImputer(),[7]),\n",
    "    ('ph_impute',SimpleImputer(strategy='median'),[0])\n",
    "],remainder='passthrough')"
   ]
  },
  {
   "cell_type": "markdown",
   "id": "1355b75d",
   "metadata": {},
   "source": [
    "#### Transformer for Scaling"
   ]
  },
  {
   "cell_type": "code",
   "execution_count": 20,
   "id": "508977a4",
   "metadata": {},
   "outputs": [],
   "source": [
    "trf2=ColumnTransformer([\n",
    "    ('scaler',StandardScaler(),slice(0,9))\n",
    "])"
   ]
  },
  {
   "cell_type": "markdown",
   "id": "570df6da",
   "metadata": {},
   "source": [
    "### Transformer for logistic Regression"
   ]
  },
  {
   "cell_type": "code",
   "execution_count": 21,
   "id": "525fbe8f",
   "metadata": {},
   "outputs": [],
   "source": [
    "trf3=LogisticRegression()"
   ]
  },
  {
   "cell_type": "code",
   "execution_count": 22,
   "id": "4ff6721f",
   "metadata": {},
   "outputs": [],
   "source": [
    "from sklearn.pipeline import Pipeline, make_pipeline"
   ]
  },
  {
   "cell_type": "markdown",
   "id": "959dee54",
   "metadata": {},
   "source": [
    "### Pipeline For Logistic Regression"
   ]
  },
  {
   "cell_type": "code",
   "execution_count": 23,
   "id": "2eb24d7d",
   "metadata": {},
   "outputs": [],
   "source": [
    "pipelr=Pipeline(\n",
    "[\n",
    "    ('trf1',trf1),\n",
    "    ('trf2',trf2),\n",
    "    ('trf3',trf3)\n",
    "])"
   ]
  },
  {
   "cell_type": "markdown",
   "id": "c45c027f",
   "metadata": {},
   "source": [
    "### LogisticRegression GridSearchCV"
   ]
  },
  {
   "cell_type": "code",
   "execution_count": 24,
   "id": "d7af284d",
   "metadata": {
    "scrolled": true
   },
   "outputs": [
    {
     "name": "stdout",
     "output_type": "stream",
     "text": [
      "{'trf3__penalty': 'l1', 'trf3__solver': 'liblinear'}\n",
      "0.6076335877862596\n"
     ]
    },
    {
     "name": "stderr",
     "output_type": "stream",
     "text": [
      "C:\\Users\\JAY\\AppData\\Local\\Programs\\Python\\Python310\\lib\\site-packages\\sklearn\\model_selection\\_validation.py:378: FitFailedWarning: \n",
      "10 fits failed out of a total of 30.\n",
      "The score on these train-test partitions for these parameters will be set to nan.\n",
      "If these failures are not expected, you can try to debug them by setting error_score='raise'.\n",
      "\n",
      "Below are more details about the failures:\n",
      "--------------------------------------------------------------------------------\n",
      "5 fits failed with the following error:\n",
      "Traceback (most recent call last):\n",
      "  File \"C:\\Users\\JAY\\AppData\\Local\\Programs\\Python\\Python310\\lib\\site-packages\\sklearn\\model_selection\\_validation.py\", line 686, in _fit_and_score\n",
      "    estimator.fit(X_train, y_train, **fit_params)\n",
      "  File \"C:\\Users\\JAY\\AppData\\Local\\Programs\\Python\\Python310\\lib\\site-packages\\sklearn\\pipeline.py\", line 405, in fit\n",
      "    self._final_estimator.fit(Xt, y, **fit_params_last_step)\n",
      "  File \"C:\\Users\\JAY\\AppData\\Local\\Programs\\Python\\Python310\\lib\\site-packages\\sklearn\\linear_model\\_logistic.py\", line 1162, in fit\n",
      "    solver = _check_solver(self.solver, self.penalty, self.dual)\n",
      "  File \"C:\\Users\\JAY\\AppData\\Local\\Programs\\Python\\Python310\\lib\\site-packages\\sklearn\\linear_model\\_logistic.py\", line 64, in _check_solver\n",
      "    raise ValueError(\n",
      "ValueError: Only 'saga' solver supports elasticnet penalty, got solver=liblinear.\n",
      "\n",
      "--------------------------------------------------------------------------------\n",
      "5 fits failed with the following error:\n",
      "Traceback (most recent call last):\n",
      "  File \"C:\\Users\\JAY\\AppData\\Local\\Programs\\Python\\Python310\\lib\\site-packages\\sklearn\\model_selection\\_validation.py\", line 686, in _fit_and_score\n",
      "    estimator.fit(X_train, y_train, **fit_params)\n",
      "  File \"C:\\Users\\JAY\\AppData\\Local\\Programs\\Python\\Python310\\lib\\site-packages\\sklearn\\pipeline.py\", line 405, in fit\n",
      "    self._final_estimator.fit(Xt, y, **fit_params_last_step)\n",
      "  File \"C:\\Users\\JAY\\AppData\\Local\\Programs\\Python\\Python310\\lib\\site-packages\\sklearn\\linear_model\\_logistic.py\", line 1291, in fit\n",
      "    fold_coefs_ = Parallel(n_jobs=self.n_jobs, verbose=self.verbose, prefer=prefer)(\n",
      "  File \"C:\\Users\\JAY\\AppData\\Local\\Programs\\Python\\Python310\\lib\\site-packages\\sklearn\\utils\\parallel.py\", line 63, in __call__\n",
      "    return super().__call__(iterable_with_config)\n",
      "  File \"C:\\Users\\JAY\\AppData\\Local\\Programs\\Python\\Python310\\lib\\site-packages\\joblib\\parallel.py\", line 1085, in __call__\n",
      "    if self.dispatch_one_batch(iterator):\n",
      "  File \"C:\\Users\\JAY\\AppData\\Local\\Programs\\Python\\Python310\\lib\\site-packages\\joblib\\parallel.py\", line 901, in dispatch_one_batch\n",
      "    self._dispatch(tasks)\n",
      "  File \"C:\\Users\\JAY\\AppData\\Local\\Programs\\Python\\Python310\\lib\\site-packages\\joblib\\parallel.py\", line 819, in _dispatch\n",
      "    job = self._backend.apply_async(batch, callback=cb)\n",
      "  File \"C:\\Users\\JAY\\AppData\\Local\\Programs\\Python\\Python310\\lib\\site-packages\\joblib\\_parallel_backends.py\", line 208, in apply_async\n",
      "    result = ImmediateResult(func)\n",
      "  File \"C:\\Users\\JAY\\AppData\\Local\\Programs\\Python\\Python310\\lib\\site-packages\\joblib\\_parallel_backends.py\", line 597, in __init__\n",
      "    self.results = batch()\n",
      "  File \"C:\\Users\\JAY\\AppData\\Local\\Programs\\Python\\Python310\\lib\\site-packages\\joblib\\parallel.py\", line 288, in __call__\n",
      "    return [func(*args, **kwargs)\n",
      "  File \"C:\\Users\\JAY\\AppData\\Local\\Programs\\Python\\Python310\\lib\\site-packages\\joblib\\parallel.py\", line 288, in <listcomp>\n",
      "    return [func(*args, **kwargs)\n",
      "  File \"C:\\Users\\JAY\\AppData\\Local\\Programs\\Python\\Python310\\lib\\site-packages\\sklearn\\utils\\parallel.py\", line 123, in __call__\n",
      "    return self.function(*args, **kwargs)\n",
      "  File \"C:\\Users\\JAY\\AppData\\Local\\Programs\\Python\\Python310\\lib\\site-packages\\sklearn\\linear_model\\_logistic.py\", line 521, in _logistic_regression_path\n",
      "    alpha = (1.0 / C) * (1 - l1_ratio)\n",
      "TypeError: unsupported operand type(s) for -: 'int' and 'NoneType'\n",
      "\n",
      "  warnings.warn(some_fits_failed_message, FitFailedWarning)\n",
      "C:\\Users\\JAY\\AppData\\Local\\Programs\\Python\\Python310\\lib\\site-packages\\sklearn\\model_selection\\_search.py:952: UserWarning: One or more of the test scores are non-finite: [0.60763359 0.60763359 0.60763359 0.60763359        nan        nan]\n",
      "  warnings.warn(\n"
     ]
    }
   ],
   "source": [
    "param_grid1={\n",
    "    'trf3__penalty':['l1','l2','elasticnet'],\n",
    "    'trf3__solver':['liblinear','saga']\n",
    "}\n",
    "grid1=GridSearchCV(pipelr,param_grid1,cv=5,scoring='accuracy')\n",
    "grid1.fit(X_train,y_train)\n",
    "print(grid1.best_params_)\n",
    "print(grid1.best_score_)"
   ]
  },
  {
   "cell_type": "markdown",
   "id": "bd1b81e7",
   "metadata": {},
   "source": [
    "### Column Transformer for Decision Tree"
   ]
  },
  {
   "cell_type": "code",
   "execution_count": 25,
   "id": "e6bf8805",
   "metadata": {},
   "outputs": [],
   "source": [
    "trf3dt=DecisionTreeClassifier()"
   ]
  },
  {
   "cell_type": "markdown",
   "id": "9252f607",
   "metadata": {},
   "source": [
    "### Pipeline for Decision Tree"
   ]
  },
  {
   "cell_type": "code",
   "execution_count": 26,
   "id": "8129a083",
   "metadata": {},
   "outputs": [],
   "source": [
    "pipedt=Pipeline(\n",
    "[\n",
    "    ('trf1',trf1),\n",
    "    ('trf2',trf2),\n",
    "    ('trf3dt',trf3dt)\n",
    "])"
   ]
  },
  {
   "cell_type": "markdown",
   "id": "c4b5c12d",
   "metadata": {},
   "source": [
    "### DecisionTreeClassifier GridSearchCV"
   ]
  },
  {
   "cell_type": "code",
   "execution_count": 27,
   "id": "d46b36e8",
   "metadata": {},
   "outputs": [
    {
     "name": "stdout",
     "output_type": "stream",
     "text": [
      "{'trf3dt__criterion': 'gini', 'trf3dt__max_depth': 9, 'trf3dt__min_samples_leaf': 3}\n",
      "0.6419847328244275\n"
     ]
    }
   ],
   "source": [
    "param_grid2={\n",
    "    'trf3dt__criterion':['gini','entropy'],\n",
    "    'trf3dt__max_depth':[4,5,6,7,8,9,10,15],\n",
    "    'trf3dt__min_samples_leaf':[1,2,3,4,5]\n",
    "}\n",
    "grid2=GridSearchCV(pipedt,param_grid2,cv=5,scoring='accuracy')\n",
    "grid2.fit(X_train,y_train)\n",
    "print(grid2.best_params_)\n",
    "print(grid2.best_score_)"
   ]
  },
  {
   "cell_type": "code",
   "execution_count": 28,
   "id": "9caf1f92",
   "metadata": {},
   "outputs": [
    {
     "data": {
      "text/plain": [
       "66.61585365853658"
      ]
     },
     "execution_count": 28,
     "metadata": {},
     "output_type": "execute_result"
    }
   ],
   "source": [
    "dt1=DecisionTreeClassifier(criterion='gini',max_depth=9,min_samples_leaf=3)\n",
    "dt1.fit(X_train_scaled,y_train)\n",
    "ypreddt=dt1.predict(X_test_scaled)\n",
    "acc2=accuracy_score(y_test,ypreddt)\n",
    "acc2*100"
   ]
  },
  {
   "cell_type": "code",
   "execution_count": 29,
   "id": "148f7f20",
   "metadata": {},
   "outputs": [
    {
     "data": {
      "text/plain": [
       "array([[368,  44],\n",
       "       [175,  69]], dtype=int64)"
      ]
     },
     "execution_count": 29,
     "metadata": {},
     "output_type": "execute_result"
    }
   ],
   "source": [
    "confusion_matrix(y_test,ypreddt)"
   ]
  },
  {
   "cell_type": "markdown",
   "id": "9d20409b",
   "metadata": {},
   "source": [
    "### RandomForestClassifier Transformer"
   ]
  },
  {
   "cell_type": "code",
   "execution_count": 30,
   "id": "79824797",
   "metadata": {},
   "outputs": [],
   "source": [
    "trf3rf=RandomForestClassifier()"
   ]
  },
  {
   "cell_type": "markdown",
   "id": "38d11c03",
   "metadata": {},
   "source": [
    "### RandomForestClassifier Pipeline"
   ]
  },
  {
   "cell_type": "code",
   "execution_count": 31,
   "id": "feac63e8",
   "metadata": {},
   "outputs": [],
   "source": [
    "piperf=Pipeline(\n",
    "[\n",
    "    ('trf1',trf1),\n",
    "    ('trf2',trf2),\n",
    "    ('trf3rf',trf3rf)\n",
    "])"
   ]
  },
  {
   "cell_type": "code",
   "execution_count": 32,
   "id": "6f1c4c23",
   "metadata": {},
   "outputs": [
    {
     "name": "stdout",
     "output_type": "stream",
     "text": [
      "{'trf3rf__criterion': 'gini', 'trf3rf__max_depth': 20, 'trf3rf__min_samples_split': 5, 'trf3rf__n_estimators': 200}\n",
      "0.666030534351145\n"
     ]
    }
   ],
   "source": [
    "param_grid3={\n",
    "    'trf3rf__criterion':['gini','entropy'],\n",
    "    'trf3rf__n_estimators':[100,200],\n",
    "    'trf3rf__max_depth':[10,20],\n",
    "    'trf3rf__min_samples_split':[2,3,4,5]\n",
    "}\n",
    "grid3=GridSearchCV(piperf,param_grid3,cv=5,scoring='accuracy')\n",
    "grid3.fit(X_train,y_train)\n",
    "print(grid3.best_params_)\n",
    "print(grid3.best_score_)"
   ]
  },
  {
   "cell_type": "code",
   "execution_count": 33,
   "id": "d0c4bbf8",
   "metadata": {},
   "outputs": [
    {
     "data": {
      "text/plain": [
       "67.22560975609755"
      ]
     },
     "execution_count": 33,
     "metadata": {},
     "output_type": "execute_result"
    }
   ],
   "source": [
    "ranfs1=RandomForestClassifier(criterion='entropy',n_estimators=100, max_depth=20,min_samples_split=2)\n",
    "ranfs1.fit(X_train_scaled,y_train)\n",
    "ypredrf=ranfs1.predict(X_test_scaled)\n",
    "acc3=accuracy_score(y_test,ypredrf)\n",
    "acc3*100"
   ]
  },
  {
   "cell_type": "code",
   "execution_count": 34,
   "id": "0463c8bb",
   "metadata": {},
   "outputs": [
    {
     "data": {
      "text/plain": [
       "array([[375,  37],\n",
       "       [178,  66]], dtype=int64)"
      ]
     },
     "execution_count": 34,
     "metadata": {},
     "output_type": "execute_result"
    }
   ],
   "source": [
    "confusion_matrix(y_test,ypredrf)"
   ]
  },
  {
   "cell_type": "markdown",
   "id": "2ece1e42",
   "metadata": {},
   "source": [
    "### Support Vector Machine"
   ]
  },
  {
   "cell_type": "code",
   "execution_count": 35,
   "id": "72b29dce",
   "metadata": {},
   "outputs": [],
   "source": [
    "trf3svc=SVC()"
   ]
  },
  {
   "cell_type": "code",
   "execution_count": 36,
   "id": "368b54c9",
   "metadata": {},
   "outputs": [],
   "source": [
    "pipesvc=Pipeline(\n",
    "[\n",
    "    ('trf1',trf1),\n",
    "    ('trf2',trf2),\n",
    "    ('trf3svc',trf3svc)\n",
    "])"
   ]
  },
  {
   "cell_type": "code",
   "execution_count": 37,
   "id": "5a1ec0cc",
   "metadata": {},
   "outputs": [
    {
     "name": "stdout",
     "output_type": "stream",
     "text": [
      "{'trf3svc__C': 0.8, 'trf3svc__degree': 1, 'trf3svc__gamma': 'scale', 'trf3svc__kernel': 'rbf'}\n",
      "0.6740458015267177\n"
     ]
    }
   ],
   "source": [
    "param_grid4={\n",
    "    'trf3svc__degree':[1,2,3,4,5],\n",
    "    'trf3svc__gamma':['scale','auto'],\n",
    "    'trf3svc__kernel':['rbf','poly','sigmoid'],\n",
    "    'trf3svc__C':[0.2,0.4,0.8]\n",
    "}\n",
    "grid4=GridSearchCV(pipesvc,param_grid4,cv=5,scoring='accuracy')\n",
    "grid4.fit(X_train,y_train)\n",
    "print(grid4.best_params_)\n",
    "print(grid4.best_score_)"
   ]
  },
  {
   "cell_type": "code",
   "execution_count": 38,
   "id": "d2e08397",
   "metadata": {},
   "outputs": [
    {
     "data": {
      "text/plain": [
       "0.6844512195121951"
      ]
     },
     "execution_count": 38,
     "metadata": {},
     "output_type": "execute_result"
    }
   ],
   "source": [
    "sv1=SVC(degree=1,gamma='scale',kernel='rbf',C=0.8)\n",
    "sv1.fit(X_train_scaled,y_train)\n",
    "ypredsv=sv1.predict(X_test_scaled)\n",
    "acc4=accuracy_score(y_test,ypredsv)\n",
    "acc4"
   ]
  },
  {
   "cell_type": "code",
   "execution_count": 39,
   "id": "db12aa33",
   "metadata": {},
   "outputs": [
    {
     "data": {
      "text/plain": [
       "array([[389,  23],\n",
       "       [184,  60]], dtype=int64)"
      ]
     },
     "execution_count": 39,
     "metadata": {},
     "output_type": "execute_result"
    }
   ],
   "source": [
    "confusion_matrix(y_test,ypredsv)"
   ]
  },
  {
   "cell_type": "markdown",
   "id": "05ce915f",
   "metadata": {},
   "source": [
    "### GradientClassifierBoosting"
   ]
  },
  {
   "cell_type": "code",
   "execution_count": 40,
   "id": "dfe8db9f",
   "metadata": {},
   "outputs": [],
   "source": [
    "from sklearn.ensemble import GradientBoostingClassifier"
   ]
  },
  {
   "cell_type": "code",
   "execution_count": 41,
   "id": "d2979ab9",
   "metadata": {},
   "outputs": [],
   "source": [
    "trf3gbc=GradientBoostingClassifier()"
   ]
  },
  {
   "cell_type": "code",
   "execution_count": 42,
   "id": "9b56bc2c",
   "metadata": {},
   "outputs": [],
   "source": [
    "pipegbc=Pipeline([\n",
    "    ('trf1',trf1),\n",
    "    ('trf2',trf2),\n",
    "    ('trf3gbc',trf3gbc)\n",
    "])"
   ]
  },
  {
   "cell_type": "code",
   "execution_count": 43,
   "id": "a1b14c8c",
   "metadata": {},
   "outputs": [
    {
     "name": "stdout",
     "output_type": "stream",
     "text": [
      "{'trf3gbc__max_depth': 10, 'trf3gbc__min_samples_split': 5, 'trf3gbc__n_estimators': 200}\n",
      "0.6503816793893129\n"
     ]
    }
   ],
   "source": [
    "param_gbc={\n",
    "    'trf3gbc__n_estimators':[100,150,200],\n",
    "    'trf3gbc__max_depth':[5,10,15],\n",
    "    'trf3gbc__min_samples_split':[3,4,5]\n",
    "}\n",
    "gridsvc=GridSearchCV(pipegbc,param_gbc,cv=5,scoring='accuracy')\n",
    "gridsvc.fit(X_train,y_train)\n",
    "print(gridsvc.best_params_)\n",
    "print(gridsvc.best_score_)"
   ]
  },
  {
   "cell_type": "code",
   "execution_count": 47,
   "id": "858e81a1",
   "metadata": {},
   "outputs": [
    {
     "data": {
      "text/plain": [
       "0.6585365853658537"
      ]
     },
     "execution_count": 47,
     "metadata": {},
     "output_type": "execute_result"
    }
   ],
   "source": [
    "gbc=GradientBoostingClassifier(max_depth=10,min_samples_split=5,n_estimators=200)\n",
    "gbc.fit(X_train_scaled,y_train)\n",
    "ypredgbc=gbc.predict(X_test_scaled)\n",
    "accgbc=accuracy_score(y_test,ypredgbc)\n",
    "accgbc"
   ]
  },
  {
   "cell_type": "code",
   "execution_count": 48,
   "id": "7fa6e233",
   "metadata": {},
   "outputs": [
    {
     "data": {
      "text/plain": [
       "array([[347,  65],\n",
       "       [159,  85]], dtype=int64)"
      ]
     },
     "execution_count": 48,
     "metadata": {},
     "output_type": "execute_result"
    }
   ],
   "source": [
    "gbcconf=confusion_matrix(y_test,ypredgbc)\n",
    "gbcconf"
   ]
  },
  {
   "cell_type": "code",
   "execution_count": 49,
   "id": "fab7c01f",
   "metadata": {},
   "outputs": [
    {
     "data": {
      "text/html": [
       "<div>\n",
       "<style scoped>\n",
       "    .dataframe tbody tr th:only-of-type {\n",
       "        vertical-align: middle;\n",
       "    }\n",
       "\n",
       "    .dataframe tbody tr th {\n",
       "        vertical-align: top;\n",
       "    }\n",
       "\n",
       "    .dataframe thead th {\n",
       "        text-align: right;\n",
       "    }\n",
       "</style>\n",
       "<table border=\"1\" class=\"dataframe\">\n",
       "  <thead>\n",
       "    <tr style=\"text-align: right;\">\n",
       "      <th></th>\n",
       "      <th>Algorithm</th>\n",
       "      <th>Accuracy</th>\n",
       "    </tr>\n",
       "  </thead>\n",
       "  <tbody>\n",
       "    <tr>\n",
       "      <th>0</th>\n",
       "      <td>LogisticRegression</td>\n",
       "      <td>60.76</td>\n",
       "    </tr>\n",
       "    <tr>\n",
       "      <th>1</th>\n",
       "      <td>DecisionTreeClassifier</td>\n",
       "      <td>66.31</td>\n",
       "    </tr>\n",
       "    <tr>\n",
       "      <th>2</th>\n",
       "      <td>RandomForestClassifier</td>\n",
       "      <td>67.22</td>\n",
       "    </tr>\n",
       "    <tr>\n",
       "      <th>3</th>\n",
       "      <td>SVC</td>\n",
       "      <td>68.44</td>\n",
       "    </tr>\n",
       "    <tr>\n",
       "      <th>4</th>\n",
       "      <td>GradientBoosting</td>\n",
       "      <td>65.85</td>\n",
       "    </tr>\n",
       "  </tbody>\n",
       "</table>\n",
       "</div>"
      ],
      "text/plain": [
       "                Algorithm  Accuracy\n",
       "0      LogisticRegression     60.76\n",
       "1  DecisionTreeClassifier     66.31\n",
       "2  RandomForestClassifier     67.22\n",
       "3                     SVC     68.44\n",
       "4        GradientBoosting     65.85"
      ]
     },
     "execution_count": 49,
     "metadata": {},
     "output_type": "execute_result"
    }
   ],
   "source": [
    "conclussion_df=pd.DataFrame({\n",
    "    'Algorithm':['LogisticRegression','DecisionTreeClassifier','RandomForestClassifier','SVC','GradientBoosting'],\n",
    "    'Accuracy':[60.76,66.31,67.22,68.44,65.85]\n",
    "})\n",
    "conclussion_df"
   ]
  },
  {
   "cell_type": "code",
   "execution_count": null,
   "id": "538ba5f4",
   "metadata": {},
   "outputs": [],
   "source": []
  }
 ],
 "metadata": {
  "kernelspec": {
   "display_name": "Python 3 (ipykernel)",
   "language": "python",
   "name": "python3"
  },
  "language_info": {
   "codemirror_mode": {
    "name": "ipython",
    "version": 3
   },
   "file_extension": ".py",
   "mimetype": "text/x-python",
   "name": "python",
   "nbconvert_exporter": "python",
   "pygments_lexer": "ipython3",
   "version": "3.10.7"
  }
 },
 "nbformat": 4,
 "nbformat_minor": 5
}
